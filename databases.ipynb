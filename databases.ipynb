{
 "cells": [
  {
   "cell_type": "markdown",
   "id": "d3ec8be8-9c08-4b0e-92bc-932c57cb9501",
   "metadata": {},
   "source": [
    "# Overview of Databases\n",
    "A database is a structured collection of data that is organized and stored in a systematic manner. \n",
    "It is designed to efficiently manage, retrieve, and manipulate large amounts of data with integrity and reliability. \n",
    "Databases provide a way to store, organize, and manage data for various purposes, such as storing information for businesses, scientific research, web applications, and more."
   ]
  },
  {
   "cell_type": "markdown",
   "id": "b611672e-89de-44f0-a405-804835dc9543",
   "metadata": {},
   "source": [
    "# Python Libraries\n",
    "SQLAlchemy  \n",
    "Psycopg2  \n",
    "MySQL Connector/Python (for MySQL)  \n",
    "Sqlite3  \n",
    "When choosing a Python library for database interaction, consider factors such as the target database system, the required functionality, performance, community support, and compatibility with your project requirements.\n",
    "Ensure that the library is compatible with your Python version and properly maintained to receive updates and bug fixes."
   ]
  },
  {
   "cell_type": "markdown",
   "id": "26aa572d-b579-4644-a99b-bc9d4217f7e8",
   "metadata": {
    "tags": []
   },
   "source": [
    "# Steps to Establish a Connection\n",
    "1. Import the appropriate library/module  \n",
    "2. Define connection parameters  \n",
    "- Determine the necessary connection parameters such as the host, port, database name, username, and password\n",
    "- These parameters vary depending on the database system and the specific configuration of your database\n",
    "3. Create a connection object\n",
    "- Use the library/module to create a connection object by passing the connection parameters  \n",
    "4. Establish the connection\n",
    "- Call a method provided by the library/module to establish the connection to the database server  "
   ]
  },
  {
   "cell_type": "markdown",
   "id": "7e896b75-924c-482a-a72e-57cc23fadc60",
   "metadata": {},
   "source": [
    "# Establish a Connection Example"
   ]
  },
  {
   "cell_type": "code",
   "execution_count": null,
   "id": "f6515b87-6f2e-4b21-89da-ba70809e36f2",
   "metadata": {},
   "outputs": [],
   "source": [
    "import psycopg2\n",
    "# Define connection parameters\n",
    "host = \"localhost\"\n",
    "port = 5432\n",
    "database = \"mydatabase\"\n",
    "user = \"myuser\"\n",
    "password = \"mypassword\"\n",
    "# Create a connection object\n",
    "conn = psycopg2.connect(\n",
    "    host=host,\n",
    "    port=port,\n",
    "    database=database,\n",
    "    user=user,\n",
    "    password=password\n",
    ")\n",
    "# Establish the connection\n",
    "conn.connect()"
   ]
  },
  {
   "cell_type": "markdown",
   "id": "f125317f-021d-4e2d-8333-4ba489a8cf4b",
   "metadata": {},
   "source": [
    "# Creating a Database\n",
    "1. Establish a connection to the database server:  \n",
    "\t- Use the appropriate Python library or module to establish a connection to the database server as discussed in the previous slide.\n",
    "2. Execute the CREATE DATABASE statement:  \n",
    "\t- Once the connection is established, execute the SQL statement to create the database.\n",
    "\t- The specific syntax may vary depending on the database system you are using.\n",
    "3. Confirm the database creation:  \n",
    "\t- After executing the CREATE DATABASE statement, check if the database has been successfully created.\n",
    "\t- You can use the database management tool or execute a SELECT statement to verify the existence of the new database."
   ]
  },
  {
   "cell_type": "markdown",
   "id": "e5e3a12f-8033-47b2-a99c-ef7353dedaff",
   "metadata": {},
   "source": [
    "# Creating a Database Example"
   ]
  },
  {
   "cell_type": "code",
   "execution_count": null,
   "id": "4f32f99a-c00a-4420-9387-64d336d4dbf4",
   "metadata": {
    "tags": []
   },
   "outputs": [],
   "source": [
    "database_name = \"mydatabase\"\n",
    "cursor = conn.cursor()\n",
    "cursor.execute(f\"CREATE DATABASE {database_name}\")\n",
    "conn.commit()\n",
    "\n",
    "# Confirm the database creation\n",
    "cursor.execute(\"SELECT datname FROM pg_database WHERE datname = %s\", (database_name,))\n",
    "result = cursor.fetchone()\n",
    "if result:\n",
    "    print(f\"Database '{database_name}' created successfully.\")\n",
    "\n",
    "# Close the connection\n",
    "conn.close()"
   ]
  },
  {
   "cell_type": "markdown",
   "id": "d36331e4-0247-4840-b545-1d9e80fe3bb2",
   "metadata": {},
   "source": [
    "# Creating Tables\n",
    "1. Establish a connection to the database server:\n",
    "   - Use the appropriate Python library or module to establish a connection to the database server as discussed in the previous slide.\n",
    "2. Execute the CREATE TABLE statement:\n",
    "   - Once the connection is established, execute the SQL statement to create a table within the database.\n",
    "   - The CREATE TABLE statement specifies the table name, column names, data types, constraints, and other properties.\n",
    "3. Confirm the table creation:\n",
    "   - After executing the CREATE TABLE statement, verify that the table has been successfully created.\n",
    "   - You can use a database management tool or execute a SELECT statement to view the table structure."
   ]
  },
  {
   "cell_type": "markdown",
   "id": "10c89e87-ef7e-4086-a72d-d108b8de4e74",
   "metadata": {},
   "source": [
    "# Creating a Table Example"
   ]
  },
  {
   "cell_type": "code",
   "execution_count": null,
   "id": "981b107c-ca7e-40db-8a7f-26380b556d45",
   "metadata": {
    "tags": []
   },
   "outputs": [],
   "source": [
    "# Establish the connection\n",
    "conn.connect()\n",
    "# Create a new table\n",
    "table_name = \"employees\"\n",
    "cursor = conn.cursor()\n",
    "create_table_query = \"\"\"\n",
    "    CREATE TABLE IF NOT EXISTS employees (\n",
    "        id SERIAL PRIMARY KEY,\n",
    "        name VARCHAR(100) NOT NULL,\n",
    "        age INT,\n",
    "        department VARCHAR(100)\n",
    "    )\n",
    "\"\"\"\n",
    "cursor.execute(create_table_query)\n",
    "conn.commit()"
   ]
  },
  {
   "cell_type": "markdown",
   "id": "28fa1917-05e8-4f7e-ad88-6f63ab02772a",
   "metadata": {},
   "source": [
    "# Inserting Data\n",
    "1. Establish a connection to the database server:\n",
    "\t- Use the appropriate Python library or module to establish a connection to the database server as discussed earlier.\n",
    "2. Execute the INSERT INTO statement:\n",
    "\t- Once the connection is established, execute the SQL statement to insert data into the table.\n",
    "\t- The INSERT INTO statement specifies the table name and the values to be inserted into the respective columns.\n",
    "3. Confirm the data insertion:\n",
    "\t- After executing the INSERT INTO statement, verify that the data has been successfully inserted into the table.\n",
    "\t- You can use a database management tool or execute a SELECT statement to view the inserted data."
   ]
  },
  {
   "cell_type": "markdown",
   "id": "32662550-856a-4a13-a3d8-4e0cf8d7f042",
   "metadata": {
    "tags": []
   },
   "source": [
    "# Inserting Data Example"
   ]
  },
  {
   "cell_type": "code",
   "execution_count": null,
   "id": "3b6819ca-2c14-4fa6-8d14-2f5dd1a174bc",
   "metadata": {
    "tags": []
   },
   "outputs": [],
   "source": [
    "table_name = \"employees\"\n",
    "cursor = conn.cursor()\n",
    "insert_query = \"\"\"\n",
    "    INSERT INTO employees (name, age, department)\n",
    "    VALUES (%s, %s, %s)\n",
    "\"\"\"\n",
    "data = [\n",
    "    (\"John Doe\", 30, \"Sales\"),\n",
    "    (\"Jane Smith\", 35, \"Marketing\"),\n",
    "    (\"Bob Johnson\", 28, \"Engineering\")\n",
    "]\n",
    "cursor.executemany(insert_query, data)"
   ]
  },
  {
   "cell_type": "markdown",
   "id": "50a89338-c90f-4bab-a96f-11cea97ae4c7",
   "metadata": {},
   "source": [
    "# Retrieving Data\n",
    "1. Establish a connection to the database server:\n",
    "   - Use the appropriate Python library or module to establish a connection to the database server as discussed earlier.\n",
    "2. Execute the SELECT statement:\n",
    "   - Once the connection is established, execute the SQL SELECT statement to retrieve data from the table.\n",
    "   - The SELECT statement specifies the columns to be retrieved, the table name, and any conditions or filters.\n",
    "3. Fetch the data:\n",
    "\t- After executing the SELECT statement, fetch the retrieved data using the appropriate method provided by the library or module.\n",
    "\t- The data is usually returned as a result set that can be iterated over or processed further."
   ]
  },
  {
   "cell_type": "markdown",
   "id": "0c527d6a-9c71-4dff-a9a9-1b0591f2b072",
   "metadata": {
    "tags": []
   },
   "source": [
    "# Retrieving Data Example"
   ]
  },
  {
   "cell_type": "code",
   "execution_count": null,
   "id": "95c412de-2e25-4918-8688-198df7deca3d",
   "metadata": {
    "tags": []
   },
   "outputs": [],
   "source": [
    "# Retrieve data from the table\n",
    "table_name = \"employees\"\n",
    "cursor = conn.cursor()\n",
    "select_query = \"SELECT * FROM employees\"\n",
    "cursor.execute(select_query)\n",
    "result = cursor.fetchall()\n",
    "\n",
    "# Process the retrieved data\n",
    "for row in result:\n",
    "    print(row)"
   ]
  },
  {
   "cell_type": "markdown",
   "id": "0140466e-7e2f-4733-a5f1-074b97922ffa",
   "metadata": {},
   "source": [
    "# Updating Data\n",
    "1. Establish a connection to the database server:\n",
    "\t- Use the appropriate Python library or module to establish a connection to the database server as discussed earlier.\n",
    "2. Execute the UPDATE statement:\n",
    "\t- Once the connection is established, execute the SQL UPDATE statement to modify the existing data in the table.\n",
    "\t- The UPDATE statement specifies the table name, the column(s) to be updated, and the new values.\n",
    "3. Confirm the data update:\n",
    "\t- After executing the UPDATE statement, verify that the data has been successfully updated.\n",
    "\t- You can use a database management tool or execute a SELECT statement to view the updated data."
   ]
  },
  {
   "cell_type": "markdown",
   "id": "52a17d1c-059e-4bd1-a624-109599866f57",
   "metadata": {
    "tags": []
   },
   "source": [
    "# Updating Data Example"
   ]
  },
  {
   "cell_type": "code",
   "execution_count": null,
   "id": "c9dcf755-75d3-4c87-83ba-175d6498549b",
   "metadata": {
    "tags": []
   },
   "outputs": [],
   "source": [
    "table_name = \"employees\"\n",
    "cursor = conn.cursor()\n",
    "update_query = \"\"\"\n",
    "    UPDATE employees\n",
    "    SET department = 'HR'\n",
    "    WHERE age < 30\n",
    "\"\"\"\n",
    "cursor.execute(update_query)"
   ]
  },
  {
   "cell_type": "markdown",
   "id": "81597df2-0124-47fc-b434-7336ae42e3b0",
   "metadata": {},
   "source": [
    "# Deleting Data\n",
    "1. Establish a connection to the database server:\n",
    "\t- Use the appropriate Python library or module to establish a connection to the database server as discussed earlier.\n",
    "2. Execute the DELETE statement:\n",
    "\t- Once the connection is established, execute the SQL DELETE statement to remove the desired data from the table.\n",
    "\t- The DELETE statement specifies the table name and any conditions or filters to identify the data to be deleted.\n",
    "3. Confirm the data deletion:\n",
    "\t- After executing the DELETE statement, verify that the data has been successfully deleted from the table.\n",
    "\t- You can use a database management tool or execute a SELECT statement to check if the specific data is no longer present."
   ]
  },
  {
   "cell_type": "markdown",
   "id": "9d80c820-8165-4ea1-babc-0fe2d6a3363e",
   "metadata": {},
   "source": [
    "# Deleting Data Example"
   ]
  },
  {
   "cell_type": "code",
   "execution_count": null,
   "id": "6dda51e6-b638-4a09-8d4c-95c340729532",
   "metadata": {
    "tags": []
   },
   "outputs": [],
   "source": [
    "table_name = \"employees\"\n",
    "cursor = conn.cursor()\n",
    "delete_query = \"\"\"\n",
    "    DELETE FROM employees\n",
    "    WHERE age >= 40\n",
    "\"\"\"\n",
    "cursor.execute(delete_query)"
   ]
  },
  {
   "cell_type": "markdown",
   "id": "3d3d6b2e-0c25-4b60-be7b-25e5311a7512",
   "metadata": {},
   "source": [
    "# Querying the Database\n",
    "Querying a database allows you to retrieve specific data based on your search criteria.\n",
    "1. Establish a connection to the database server:\n",
    "2. Execute the SELECT statement:\n",
    "\t- Once the connection is established, execute the SQL SELECT statement to specify the data you want to retrieve from the database.\n",
    "\t- The SELECT statement specifies the columns to be retrieved, the table name, and any conditions or filters.\n",
    "3. Fetch the results:\n",
    "\t- After executing the SELECT statement, fetch the results using the appropriate method provided by the library or module.\n",
    "\t- The results are typically returned as a result set or a collection of rows that you can iterate over or process further."
   ]
  },
  {
   "cell_type": "markdown",
   "id": "0459cab2-c25b-42ef-8197-f39e338b5eae",
   "metadata": {},
   "source": [
    "# Querying the Database Example"
   ]
  },
  {
   "cell_type": "code",
   "execution_count": null,
   "id": "45e918c5-4860-472a-bf7f-85c86370e848",
   "metadata": {
    "tags": []
   },
   "outputs": [],
   "source": [
    "# Query the database\n",
    "table_name = \"employees\"\n",
    "cursor = conn.cursor()\n",
    "select_query = \"SELECT * FROM employees WHERE age > 30\"\n",
    "cursor.execute(select_query)\n",
    "results = cursor.fetchall()\n",
    "\n",
    "# Process the query results\n",
    "for row in results:\n",
    "    print(row)"
   ]
  },
  {
   "cell_type": "markdown",
   "id": "5e11295c-e73b-4c27-b42b-732ab2266077",
   "metadata": {},
   "source": [
    "# Handling Transactions\n",
    "In the context of databases, a transaction refers to a logical unit of work that consists of one or more database operations.\n",
    "Transactions allow you to group multiple database operations together, treating them as a single indivisible entity.\n",
    "Transactions are important in database operations to ensure data integrity and consistency.\n",
    "Python libraries provide mechanisms to handle transactions effectively."
   ]
  },
  {
   "cell_type": "markdown",
   "id": "8bc4504d-ae35-4b9c-aa58-7848bb11ed7c",
   "metadata": {},
   "source": [
    "# Steps for Handling Transactions\n",
    "1. Establish a connection to the database server:.\n",
    "2. Begin the transaction:\n",
    "\t- Once the connection is established, begin the transaction using the library's provided method.\n",
    "\t- This marks the starting point of the transaction.\n",
    "3. Execute database operations:\n",
    "\t- Perform the required database operations (insert, update, delete, etc.) within the transaction scope.\n",
    "\t- These operations will be treated as a single unit of work.\n",
    "4. Commit the transaction:\n",
    "\t- If all the operations within the transaction are successful, commit the transaction to make the changes permanent.\n",
    "\t- The commit operation applies all the changes made during the transaction.\n",
    "5. Rollback the transaction:\n",
    "\t- If any operation within the transaction fails or encounters an error, roll back the transaction to its initial state.\n",
    "\t- The rollback operation discards all the changes made during the transaction."
   ]
  },
  {
   "cell_type": "markdown",
   "id": "91c0f7ff-1075-4ea8-8de3-ce40e9aec4d7",
   "metadata": {},
   "source": [
    "# Common Database Errors\n",
    "**Connection Errors**: Errors that occur when establishing a connection to the database server, such as network issues, authentication failures, or incorrect connection parameters.  \n",
    "**Query Errors**: Errors that occur during SQL query execution, such as syntax errors, constraint violations, or data type mismatches.  \n",
    "**Transaction Errors**: Errors that occur while performing transactions, such as deadlocks, conflicts, or integrity violations.  "
   ]
  },
  {
   "cell_type": "markdown",
   "id": "584d2f3d-7ea1-4a26-bbdd-28ea2cc24198",
   "metadata": {},
   "source": [
    "# Error Handling Techniques\n",
    "Try-Except Block  \n",
    "Logging and Error Messages  \n",
    "Graceful Recovery  \n",
    "- Error recovery mechanisms can include rolling back transactions, retrying failed operations, or providing alternative paths when errors occur"
   ]
  },
  {
   "cell_type": "code",
   "execution_count": null,
   "id": "f7898733-c873-4af7-84b2-00a58041ee5a",
   "metadata": {},
   "outputs": [],
   "source": []
  }
 ],
 "metadata": {
  "kernelspec": {
   "display_name": "Python 3 (ipykernel)",
   "language": "python",
   "name": "python3"
  },
  "language_info": {
   "codemirror_mode": {
    "name": "ipython",
    "version": 3
   },
   "file_extension": ".py",
   "mimetype": "text/x-python",
   "name": "python",
   "nbconvert_exporter": "python",
   "pygments_lexer": "ipython3",
   "version": "3.9.18"
  }
 },
 "nbformat": 4,
 "nbformat_minor": 5
}
