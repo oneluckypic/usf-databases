{
 "cells": [
  {
   "cell_type": "code",
   "execution_count": 1,
   "id": "e01ff4b0-6e96-4d66-b49c-7a592dd3e30f",
   "metadata": {},
   "outputs": [],
   "source": [
    "import pandas as pd\n",
    "import matplotlib.pyplot as plt"
   ]
  },
  {
   "cell_type": "code",
   "execution_count": 2,
   "id": "d0594d39-a12e-43a9-b0c7-4cb2286d0761",
   "metadata": {},
   "outputs": [],
   "source": [
    "# Load Covid test data by zip code in New York City from April 1st 2020 through May 1st 2020\n",
    "tests_by_zip = pd.read_csv('data/accum-nychealth-tests-by-zcta.csv')\n",
    "tests_by_zip = tests_by_zip.dropna()\n",
    "tests_by_zip['ZipCode'] = tests_by_zip['MODZCTA'].astype('int')"
   ]
  },
  {
   "cell_type": "code",
   "execution_count": 3,
   "id": "3ac1a2c0-edad-4d2e-9865-053972cff35d",
   "metadata": {},
   "outputs": [],
   "source": [
    "ny_zips = pd.read_csv('data/NY_Census_Zip.csv')\n",
    "ny_zips['ZipCode'] = ny_zips['NAME'].replace(to_replace=r'ZCTA5 (\\d+), New York', value=r'\\1', regex=True)\n",
    "ny_zips = ny_zips[ny_zips['ZipCode'].apply(lambda x: x.isnumeric())]\n",
    "ny_zips['ZipCode'] = ny_zips['ZipCode'].astype('int')"
   ]
  },
  {
   "cell_type": "code",
   "execution_count": 4,
   "id": "fef0c5fd-4f5c-4085-80e7-9953d221f3ac",
   "metadata": {},
   "outputs": [],
   "source": [
    "days = 5\n",
    "df = tests_by_zip.merge(ny_zips, on='ZipCode')\n",
    "df = df[['GEO_ID', 'ZipCode', 'P001001', 'Total', 'Positive', 'Timestamp']]\n",
    "df.columns = ['GEO_ID', 'Zip Code', 'Population', 'Total Tests', 'Positive CVD', 'Timestamp']\n",
    "df['Timestamp'] = pd.to_datetime(df['Timestamp'], format='mixed')\n",
    "df['Population'] = df['Population'].astype('int')\n",
    "df['Incidence Rate'] = df['Positive CVD'] / df['Population'] * 100"
   ]
  },
  {
   "cell_type": "code",
   "execution_count": 5,
   "id": "31437ba1-356d-4d2b-acef-653b99ff8a1c",
   "metadata": {},
   "outputs": [],
   "source": [
    "new_df = pd.DataFrame()\n",
    "for by, group in df.groupby(['Zip Code']):\n",
    "    group = group.set_index('Timestamp', verify_integrity=True)\n",
    "    group = group.sort_values(by='Timestamp')\n",
    "    group.loc[:, str(days) + ' Day Mean Incidence Rate'] = group['Incidence Rate'].rolling(str(days) + 'd').mean()\n",
    "    new_df = pd.concat([new_df, group])\n",
    "df = new_df.reset_index()"
   ]
  },
  {
   "cell_type": "code",
   "execution_count": 6,
   "id": "1796648f-0381-486d-a675-47022bed815e",
   "metadata": {},
   "outputs": [],
   "source": [
    "df.to_csv('5_Day_Mean_Incidence_Rate_Per_NY_Zip_Code.csv', index=False)"
   ]
  }
 ],
 "metadata": {
  "kernelspec": {
   "display_name": "Python 3 (ipykernel)",
   "language": "python",
   "name": "python3"
  },
  "language_info": {
   "codemirror_mode": {
    "name": "ipython",
    "version": 3
   },
   "file_extension": ".py",
   "mimetype": "text/x-python",
   "name": "python",
   "nbconvert_exporter": "python",
   "pygments_lexer": "ipython3",
   "version": "3.9.18"
  }
 },
 "nbformat": 4,
 "nbformat_minor": 5
}
