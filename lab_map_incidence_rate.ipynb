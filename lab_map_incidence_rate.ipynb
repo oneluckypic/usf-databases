{
 "cells": [
  {
   "cell_type": "code",
   "execution_count": null,
   "id": "254a6836-867f-4d3a-84be-9426c70008cf",
   "metadata": {},
   "outputs": [],
   "source": [
    "from celluloid import Camera\n",
    "from IPython.display import HTML\n",
    "import geopandas as gpd\n",
    "import matplotlib.pyplot as plt\n",
    "from moviepy.editor import VideoFileClip\n",
    "import os\n",
    "import pandas as pd"
   ]
  },
  {
   "cell_type": "code",
   "execution_count": null,
   "id": "0e09d045-d5ce-4a35-98e9-2d412bbaa2ae",
   "metadata": {},
   "outputs": [],
   "source": [
    "df = pd.read_csv('5_Day_Mean_Incidence_Rate_Per_NY_Zip_Code.csv')\n",
    "df['Timestamp'] = pd.to_datetime(df['Timestamp'])\n",
    "df = df.sort_values(by='Timestamp')\n",
    "min_date = df['Timestamp'].min().date().strftime('%B %d')\n",
    "max_date = df['Timestamp'].max().date().strftime('%B %d %Y')"
   ]
  },
  {
   "cell_type": "code",
   "execution_count": null,
   "id": "f7072c42-2714-4bbf-ab89-ef3294fea4b7",
   "metadata": {},
   "outputs": [],
   "source": [
    "gdf = gpd.read_file('data/ZIP_CODE_040114/ZIP_CODE_040114.shp')\n",
    "gdf = gdf.rename(columns={'ZIPCODE': 'Zip Code'})\n",
    "gdf['Zip Code'] = gdf['Zip Code'].astype('int')"
   ]
  },
  {
   "cell_type": "code",
   "execution_count": null,
   "id": "590ce7ba-34ed-4e49-97ad-3c3bd8825485",
   "metadata": {},
   "outputs": [],
   "source": [
    "fig = plt.figure(figsize=(8,8))\n",
    "plt.title('5 Day Mean Incidence Rate by NYC Zip Code\\n' + min_date + ' to ' + max_date, fontsize=20)\n",
    "plt.xticks([])\n",
    "plt.yticks([])\n",
    "\n",
    "camera = Camera(fig)\n",
    "ax = fig.add_subplot(111)\n",
    "\n",
    "for by, group in df.groupby(['Timestamp']):\n",
    "    zip_map = gdf.merge(group, on='Zip Code')\n",
    "    zip_map.plot(column='5 Day Mean Incidence Rate', ax=ax)\n",
    "    ax.set_xticks([])\n",
    "    ax.set_yticks([])\n",
    "    ax.set_xlabel('Longitude', fontsize=20)\n",
    "    ax.set_ylabel('Latitude',fontsize=20)\n",
    "    camera.snap()\n",
    "\n",
    "animation = camera.animate(interval=2*200)\n",
    "\n",
    "file_name = 'map-animation.mp4'\n",
    "animation.save(file_name)\n",
    "\n",
    "clip = VideoFileClip(file_name)\n",
    "clip.write_gif(\"map-animation.gif\")\n",
    "os.remove(file_name)\n",
    "\n",
    "HTML(animation.to_html5_video())"
   ]
  }
 ],
 "metadata": {
  "kernelspec": {
   "display_name": "Python 3 (ipykernel)",
   "language": "python",
   "name": "python3"
  },
  "language_info": {
   "codemirror_mode": {
    "name": "ipython",
    "version": 3
   },
   "file_extension": ".py",
   "mimetype": "text/x-python",
   "name": "python",
   "nbconvert_exporter": "python",
   "pygments_lexer": "ipython3",
   "version": "3.9.18"
  }
 },
 "nbformat": 4,
 "nbformat_minor": 5
}
