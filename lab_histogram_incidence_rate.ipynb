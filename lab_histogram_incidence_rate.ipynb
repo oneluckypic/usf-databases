{
 "cells": [
  {
   "cell_type": "code",
   "execution_count": null,
   "metadata": {},
   "outputs": [],
   "source": [
    "from celluloid import Camera\n",
    "from IPython.display import HTML\n",
    "import matplotlib\n",
    "import matplotlib.pyplot as plt\n",
    "from moviepy.editor import VideoFileClip\n",
    "import numpy as np\n",
    "import os\n",
    "import pandas as pd"
   ]
  },
  {
   "cell_type": "code",
   "execution_count": null,
   "metadata": {},
   "outputs": [],
   "source": [
    "df = pd.read_csv('5_Day_Mean_Incidence_Rate_Per_NY_Zip_Code.csv')\n",
    "df['Timestamp'] = pd.to_datetime(df['Timestamp'])\n",
    "df = df.sort_values(by='Timestamp')\n",
    "min_date = df['Timestamp'].min().date().strftime('%B %d')\n",
    "max_date = df['Timestamp'].max().date().strftime('%B %d %Y')"
   ]
  },
  {
   "cell_type": "code",
   "execution_count": null,
   "metadata": {},
   "outputs": [],
   "source": [
    "fig = plt.figure(figsize=(10,8))\n",
    "camera = Camera(fig)\n",
    "ax = fig.add_subplot(111)\n",
    "\n",
    "for by, group in df.groupby(['Timestamp']):\n",
    "    group[['5 Day Mean Incidence Rate']].plot.hist(ax=ax, color='blue')\n",
    "    ax.get_legend().remove()\n",
    "    ax.set_xlim(0.0, 3.0)\n",
    "    ax.set_ylim(0, 60)\n",
    "    ax.set_xticks(np.arange(0.0, 3.0, 0.2))\n",
    "    ax.set_yticks(np.arange(0, 60, 5))\n",
    "    ax.set_xlabel('Incidence Rate', fontsize=20)\n",
    "    ax.set_ylabel('Frequency',fontsize=20)\n",
    "    ax.set_title('5 Day Mean Incidence Rate by NYC Zip Code\\n' + min_date + ' to ' + max_date, fontsize=20)\n",
    "    camera.snap()\n",
    "animation = camera.animate(interval=500)\n",
    "\n",
    "file_name = 'histogram-animation.mp4'\n",
    "animation.save(file_name)\n",
    "\n",
    "clip = VideoFileClip(file_name)\n",
    "clip.write_gif(\"histogram-animation.gif\")\n",
    "os.remove(file_name)\n",
    "\n",
    "HTML(animation.to_html5_video())"
   ]
  },
  {
   "cell_type": "code",
   "execution_count": null,
   "metadata": {},
   "outputs": [],
   "source": []
  }
 ],
 "metadata": {
  "file_extension": ".py",
  "kernelspec": {
   "display_name": "Python 3 (ipykernel)",
   "language": "python",
   "name": "python3"
  },
  "language_info": {
   "codemirror_mode": {
    "name": "ipython",
    "version": 3
   },
   "file_extension": ".py",
   "mimetype": "text/x-python",
   "name": "python",
   "nbconvert_exporter": "python",
   "pygments_lexer": "ipython3",
   "version": "3.9.18"
  },
  "mimetype": "text/x-python",
  "name": "python",
  "npconvert_exporter": "python",
  "pygments_lexer": "ipython3",
  "version": 3
 },
 "nbformat": 4,
 "nbformat_minor": 4
}
