{
 "cells": [
  {
   "cell_type": "code",
   "execution_count": null,
   "id": "4cc41468-6e31-4281-821d-73d67679e3ca",
   "metadata": {
    "tags": []
   },
   "outputs": [],
   "source": [
    "import os\n",
    "import pandas as pd\n",
    "from pathlib import Path\n",
    "from sqlalchemy import create_engine"
   ]
  },
  {
   "cell_type": "markdown",
   "id": "459fcc27-1bf8-45f1-8203-c0063bf9a184",
   "metadata": {
    "tags": []
   },
   "source": [
    "# Loading data into a database the easy way"
   ]
  },
  {
   "cell_type": "code",
   "execution_count": null,
   "id": "d264ba53-c9de-4943-8ebd-e9dd4f25dcf3",
   "metadata": {
    "tags": []
   },
   "outputs": [],
   "source": [
    "# Read in the password from a file\n",
    "with open(os.path.join(Path.home(), '.secrets/elephantdb'), 'r') as secret:\n",
    "    password = secret.read().replace('\\n', '').strip()\n",
    "\n",
    "url = 'postgresql://twmzglvg:' + password + '@bubble.db.elephantsql.com/twmzglvg'\n",
    "engine = create_engine(url, echo=False)"
   ]
  },
  {
   "cell_type": "code",
   "execution_count": null,
   "id": "ac8c35d0-34a3-49aa-b11a-ff3e31f2e013",
   "metadata": {
    "tags": []
   },
   "outputs": [],
   "source": [
    "df = pd.read_csv('data/NY_Census_Zip.csv')\n",
    "with engine.connect() as conn:\n",
    "    df.to_sql(name='ny_census_zip', con=conn, if_exists='replace')"
   ]
  },
  {
   "cell_type": "code",
   "execution_count": null,
   "id": "892a088c-98e4-478c-a493-12f3532b2e41",
   "metadata": {
    "tags": []
   },
   "outputs": [],
   "source": [
    "df = pd.read_csv('data/accum-nychealth-tests-by-zcta.csv')\n",
    "with engine.connect() as conn:\n",
    "    df.to_sql(name='ny_tests_by_zcta', con=conn, if_exists='replace')"
   ]
  },
  {
   "cell_type": "code",
   "execution_count": null,
   "id": "9b722621-dc6d-4a9a-a5fd-6a7d1fcdb8d0",
   "metadata": {},
   "outputs": [],
   "source": []
  }
 ],
 "metadata": {
  "kernelspec": {
   "display_name": "Python 3 (ipykernel)",
   "language": "python",
   "name": "python3"
  },
  "language_info": {
   "codemirror_mode": {
    "name": "ipython",
    "version": 3
   },
   "file_extension": ".py",
   "mimetype": "text/x-python",
   "name": "python",
   "nbconvert_exporter": "python",
   "pygments_lexer": "ipython3",
   "version": "3.9.18"
  }
 },
 "nbformat": 4,
 "nbformat_minor": 5
}
